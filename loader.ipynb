{
 "cells": [
  {
   "cell_type": "code",
   "execution_count": 1,
   "metadata": {},
   "outputs": [],
   "source": [
    "import numpy as np\n",
    "import pandas as pd"
   ]
  },
  {
   "cell_type": "code",
   "execution_count": 7,
   "metadata": {},
   "outputs": [],
   "source": [
    "df0708 = pd.read_excel('data/nfl odds 2007-08.xlsx')\n",
    "df0708['year'] = '2007-08'\n",
    "df0809 = pd.read_excel('data/nfl odds 2008-09.xlsx')\n",
    "df0809['year'] = '2008-09'\n",
    "df0910 = pd.read_excel('data/nfl odds 2009-10.xlsx')\n",
    "df0910['year'] = '2009-10'\n",
    "df1011 = pd.read_excel('data/nfl odds 2010-11.xlsx')\n",
    "df1011['year'] = '2010-11'\n",
    "df1112 = pd.read_excel('data/nfl odds 2011-12.xlsx')\n",
    "df1112['year'] = '2011-12'\n",
    "df1213 = pd.read_excel('data/nfl odds 2012-13.xlsx')\n",
    "df1213['year'] = '2012-13'\n",
    "df1314 = pd.read_excel('data/nfl odds 2013-14.xlsx')\n",
    "df1314['year'] = '2013-14'\n",
    "df1415 = pd.read_excel('data/nfl odds 2014-15.xlsx')\n",
    "df1415['year'] = '2014-15'\n",
    "df1516 = pd.read_excel('data/nfl odds 2015-16.xlsx')\n",
    "df1516['year'] = '2015-16'\n",
    "df1617 = pd.read_excel('data/nfl odds 2016-17.xlsx')\n",
    "df1617['year'] = '2016-17'\n",
    "df1718 = pd.read_excel('data/nfl odds 2017-18.xlsx')\n",
    "df1718['year'] = '2017-18'\n",
    "df1819 = pd.read_excel('data/nfl odds 2018-19.xlsx')\n",
    "df1819['year'] = '2018-19'\n",
    "df1920 = pd.read_excel('data/odds_19-20.xlsx')\n",
    "df1920['year'] = '2019-20'"
   ]
  },
  {
   "cell_type": "code",
   "execution_count": 8,
   "metadata": {},
   "outputs": [],
   "source": [
    "dfList = [df0708, df0809, df0910, df1011, df1112, df1213, df1314, df1415, df1516, df1617, df1718, df1819, df1920]"
   ]
  },
  {
   "cell_type": "code",
   "execution_count": 9,
   "metadata": {},
   "outputs": [],
   "source": [
    "df = pd.concat(dfList, sort=True)"
   ]
  },
  {
   "cell_type": "code",
   "execution_count": 11,
   "metadata": {},
   "outputs": [],
   "source": [
    "picke_path = 'odds_data.pickle'"
   ]
  },
  {
   "cell_type": "code",
   "execution_count": 12,
   "metadata": {},
   "outputs": [],
   "source": [
    "df.to_pickle(picke_path)"
   ]
  },
  {
   "cell_type": "code",
   "execution_count": null,
   "metadata": {},
   "outputs": [],
   "source": []
  }
 ],
 "metadata": {
  "kernelspec": {
   "display_name": "Python 3",
   "language": "python",
   "name": "python3"
  },
  "language_info": {
   "codemirror_mode": {
    "name": "ipython",
    "version": 3
   },
   "file_extension": ".py",
   "mimetype": "text/x-python",
   "name": "python",
   "nbconvert_exporter": "python",
   "pygments_lexer": "ipython3",
   "version": "3.6.8"
  }
 },
 "nbformat": 4,
 "nbformat_minor": 2
}
